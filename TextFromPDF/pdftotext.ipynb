{
 "cells": [
  {
   "cell_type": "markdown",
   "metadata": {},
   "source": [
    "# Extracting text from a pdf file using pdfminer.six"
   ]
  },
  {
   "cell_type": "code",
   "execution_count": 6,
   "metadata": {},
   "outputs": [],
   "source": [
    "from pdfminer.layout import LAParams, LTTextBox\n",
    "from pdfminer.pdfpage import PDFPage\n",
    "from pdfminer.pdfinterp import PDFResourceManager\n",
    "from pdfminer.pdfinterp import PDFPageInterpreter\n",
    "from pdfminer.converter import PDFPageAggregator,TextConverter\n",
    "import io"
   ]
  },
  {
   "cell_type": "code",
   "execution_count": 23,
   "metadata": {},
   "outputs": [],
   "source": [
    "def convert_pdf_to_txt(path):\n",
    "    rsrcmgr = PDFResourceManager()\n",
    "    retstr = io.StringIO()\n",
    "    codec = 'utf-8'\n",
    "    laparams = LAParams()\n",
    "    device = TextConverter(rsrcmgr, retstr, codec=codec, laparams=laparams)\n",
    "    fp = open(path, 'rb')\n",
    "    interpreter = PDFPageInterpreter(rsrcmgr, device)\n",
    "    password = \"\"\n",
    "    maxpages = 0\n",
    "    caching = True\n",
    "    pagenos=set()\n",
    "    for page in PDFPage.get_pages(fp,pagenos, maxpages=maxpages, password=password,caching=caching, check_extractable=True):\n",
    "        interpreter.process_page(page)\n",
    "    text = retstr.getvalue()\n",
    "    fp.close()\n",
    "    device.close()\n",
    "    retstr.close()\n",
    "    return (text)"
   ]
  },
  {
   "cell_type": "code",
   "execution_count": 34,
   "metadata": {},
   "outputs": [],
   "source": [
    "text = convert_pdf_to_txt(\"HDPB.pdf\")"
   ]
  },
  {
   "cell_type": "code",
   "execution_count": 35,
   "metadata": {},
   "outputs": [
    {
     "data": {
      "text/plain": [
       "' ‘HOSPITALITY DEVELOPMENT AND PROMOTION BOARD (HDPB)’  \\n\\nConstruction of hotels is primarily a private sector activity which is capital \\nintensive and has a long gestation period. The constraints being faced by the hotel \\nindustry in addition to the high cost and limited availability of land is the \\nprocurement of multiple clearances / approvals which are required from the Central \\nand State Government agencies for hotel projects. In some cases as many as 65 or \\nmore clearances/approvals are required by hotel projects which vary from State to \\nState.  \\n\\nThe often cumbersome process involved in obtaining multiple clearances for the \\nhotel projects results in: \\n\\n•  Delay in implementation of the project. \\n•  Cost escalation making the project less profitable and often unviable. \\n•  Discourage Promoters for investing in such projects. \\n•  In some instance, the project is stopped midway and restructured for \\n\\nsome other use such as apartments etc. \\n\\nTo address the constraints being faced by the hotel industry in obtaining multiple \\nclearances, and to streamline the system for speedy clearances of hotel projects, the \\nGovernment has approved the setting up of a ‘Hospitality Development and \\nPromotion Board (HDPB)’ for hotel projects. \\n\\n1.  HDPB will meet at regular intervals with following functions:  \\n\\n(i)  Monitor and facilitate the clearances/ approvals of Hotel Projects.  \\n(ii)  The Secretariat of the Board to be a single point for receiving \\n\\napplications.  \\n\\n(iii)  To review and advice on hotel development policies. \\n\\nThe Board would be operational at three levels: \\n\\n(i)  Clearances that are exclusively the responsibility of Central Ministries/ \\n\\n(ii)  Central clearance incumbent upon State Government clearances and  \\n(iii)  Clearances that are the responsibility of State or other levels of State \\n\\nauthorities.  \\n\\nGovernment \\n\\n2.  At Central level, the board shall be chaired by Secretary (Tourism), \\n\\nGovernment of India with Additional Director General (Tourism) JS level \\nIAS officer, as the convener and members drawn from concerned \\nMinistries/Departments viz. Urban Development, Environment, Culture, \\nCivil Aviation, Finance, Home, Chairman NDMC/ Commissioner MCD/ \\nVice Chairman DDA (in respect of projects coming up in Delhi) and two \\n\\n\\x0c \\n\\n-2-\\n\\nnon-official members having \\nwith a 2 year term.   \\n\\nknowledge of hospitality sector \\n\\n3.  The State Governments shall be advised by Ministry of Tourism to set up \\n\\nsimilar State Level Boards, if such Boards do not exist. \\n\\n4.  The HDPB will not supersede any statutory clearances required by other \\n\\nministries/agencies. However, the regular monitoring and reviewing would \\nincrease their accountability. The review and monitoring would put pressure \\non the concerned agencies / departments to adhere to stipulated time \\nschedule. The board can at any time take up any matters of concern to the \\nhighest level of the Central/State Governments.  \\n\\nThe clearances to be given by the concerned agencies would be  based on \\n\\n \\ntheir statutory provisions. \\n\\n5. \\n\\nIt is expected that the Hospitality Development and Promotion Board will \\n\\ncontribute in the following manner: \\n\\n(i) \\n\\nImplementing a transparent system for the effective monitoring of hotel \\nprojects  \\n\\n(ii)  Ensure timely accrual of approvals / clearances / NOCs by the multiple \\n\\nagencies and facilitate the implementation of hotel projects  \\n\\n(iii)  Expeditious clearances will enable completion of hotel projects in time \\n\\nleading to enhancement of room availability for the tourists. \\n\\n***** \\n\\n \\n\\n \\n\\n\\x0c'"
      ]
     },
     "execution_count": 35,
     "metadata": {},
     "output_type": "execute_result"
    }
   ],
   "source": [
    "text"
   ]
  },
  {
   "cell_type": "markdown",
   "metadata": {},
   "source": [
    "# Extracting pdf to text using pypdf2"
   ]
  },
  {
   "cell_type": "code",
   "execution_count": 26,
   "metadata": {},
   "outputs": [],
   "source": [
    "import PyPDF2"
   ]
  },
  {
   "cell_type": "code",
   "execution_count": 30,
   "metadata": {},
   "outputs": [],
   "source": [
    "def convert_pdf_to_text_py(path):\n",
    "    content = \"\"\n",
    "    with open(path, \"rb\") as f:\n",
    "        pdfDoc = PyPDF2.PdfFileReader(f,\"rb\")\n",
    "        for i in range(0,pdfDoc.getNumPages()):\n",
    "            content += pdfDoc.getPage(i).extractText() + \"\\n\"\n",
    "        return (content)"
   ]
  },
  {
   "cell_type": "code",
   "execution_count": 31,
   "metadata": {},
   "outputs": [],
   "source": [
    "text1=convert_pdf_to_text_py(\"HDPB.pdf\")"
   ]
  },
  {
   "cell_type": "code",
   "execution_count": 32,
   "metadata": {},
   "outputs": [
    {
     "data": {
      "text/plain": [
       "' ‚HOSPITALITY DEVELOPMENT AND PROMOTION BOARD (HDPB\\n)™  \\nConstruction of hotels is primarily a private secto\\nr activity which is capital \\nintensive and has a long gestation period. The cons\\ntraints being faced by the hotel \\nindustry in addition to the high cost and limited a\\nvailability of land is the \\nprocurement of multiple clearances / approvals whic\\nh are required from the Central \\nand State Government agencies for hotel projects. I\\nn some cases as many as 65 or \\nmore clearances/approvals are required by hotel pro\\njects which vary from State to \\nState.  \\nThe often cumbersome process involved in obtaining \\nmultiple clearances for the \\nhotel projects results in: \\n· Delay in implementation of the project. \\n· Cost escalation making the project less profitable \\nand often unviable. \\n· Discourage Promoters for investing in such projects\\n. \\n· In some instance, the project is stopped midway and\\n restructured for \\nsome other use such as apartments etc. \\nTo address the constraints being faced by the hotel\\n industry in obtaining multiple \\nclearances, and to streamline the system for speedy\\n clearances of hotel projects, the \\nGovernment has approved the setting up of a ‚Hospit\\nality Development and \\nPromotion Board (HDPB)™ for hotel projects. \\n1.\\n HDPB will meet at regular intervals with following \\nfunctions:  \\n(i)\\n Monitor and facilitate the clearances/ approvals of\\n Hotel Projects.  \\n(ii)\\n The Secretariat of the Board to be a single point f\\nor receiving \\napplications.  \\n(iii)\\n To review and advice on hotel development policies.\\n The Board would be operational at three levels: \\n(i)\\n Clearances that are exclusively the responsibility \\nof Central Ministries/ \\nauthorities.  \\n(ii)\\n Central clearance incumbent upon State Government c\\nlearances and \\n (iii)\\n Clearances that are the responsibility of State or \\nother levels of State \\nGovernment\\n 2.\\n At Central level, the board shall be chaired by Sec\\nretary (Tourism), \\nGovernment of India with Additional Director Genera\\nl (Tourism) JS level \\nIAS officer, as the convener and members drawn from\\n concerned \\nMinistries/Departments viz. Urban Development, Envi\\nronment, Culture, \\nCivil Aviation, Finance, Home, Chairman NDMC/ Commi\\nssioner MCD/ \\nVice Chairman DDA (in respect of projects coming up\\n in Delhi) and two \\n\\n \\n -2\\n-non-official members having \\nknowledge of hospitality sector \\nwith a 2 year term.   \\n3.\\n The State Governments shall be advised by Ministry \\nof Tourism to set up \\nsimilar State Level Boards, if such Boards do not e\\nxist. \\n4.\\n The HDPB will not supersede any statutory clearance\\ns required by other \\nministries/agencies. However, the regular monitorin\\ng and reviewing would \\nincrease their accountability. The review and monit\\noring would put pressure \\non the concerned agencies / departments to adhere t\\no stipulated time \\nschedule. The board can at any time take up any mat\\nters of concern to the \\nhighest level of the Central/State Governments.  \\n The clearances to be given by the concerned agenci\\nes would be  based on \\ntheir statutory provisions. \\n5.\\n It is expected that the Hospitality Development and\\n Promotion Board will \\ncontribute in the following manner: \\n(i)\\n Implementing a transparent system for the effective\\n monitoring of hotel \\nprojects  \\n(ii)\\n Ensure timely accrual of approvals / clearances / N\\nOCs by the multiple \\nagencies and facilitate the implementation of hotel\\n projects  \\n(iii)\\n Expeditious clearances will enable completion of ho\\ntel projects in time \\nleading to enhancement of room availability for the\\n tourists. \\n ***** \\n\\n'"
      ]
     },
     "execution_count": 32,
     "metadata": {},
     "output_type": "execute_result"
    }
   ],
   "source": [
    "text1"
   ]
  },
  {
   "cell_type": "code",
   "execution_count": null,
   "metadata": {},
   "outputs": [],
   "source": []
  }
 ],
 "metadata": {
  "kernelspec": {
   "display_name": "Python 3",
   "language": "python",
   "name": "python3"
  },
  "language_info": {
   "codemirror_mode": {
    "name": "ipython",
    "version": 3
   },
   "file_extension": ".py",
   "mimetype": "text/x-python",
   "name": "python",
   "nbconvert_exporter": "python",
   "pygments_lexer": "ipython3",
   "version": "3.7.3"
  }
 },
 "nbformat": 4,
 "nbformat_minor": 2
}
