{
 "cells": [
  {
   "cell_type": "markdown",
   "metadata": {},
   "source": [
    "# Case Study\n",
    "*An Insurance Company wants to digitize their legacy data. Most of the data are captured in the form of text which is available as a portable document format(pdf). The company wants to extract information and then export the required information in the form of CSV so that it can be loaded into the database easily.*\n",
    "\n",
    "For the purpose of this tutorial, we assume that we have only one pdf which is stored __[here](https://github.com/vedantnarayan/DataScienceTutorial/blob/master/TextFromPDF/4200410050.PDF)__ for your reference. For simplicity, we are going to extract the following information from pdf.\n",
    "* Master Policy No.\n",
    "* Certificate No.\n",
    "* GST NO."
   ]
  },
  {
   "cell_type": "markdown",
   "metadata": {},
   "source": [
    "## STEP 1 Convert PDF To Text\n",
    "\n",
    "In Python there are many packages available to convert Text Based Pdfs to text string. Please note here we are dealig with text based pdfs and image based scanned pdfs\n",
    "are out of scope for this tutorial. For this tutorial we are using PyPDF2 package to extract text from pdf. You can install PyPDF2 from __[this](https://pypi.org/project/PyPDF2/)__ link"
   ]
  },
  {
   "cell_type": "markdown",
   "metadata": {},
   "source": [
    "### Converting pdf to text using pypdf2"
   ]
  },
  {
   "cell_type": "code",
   "execution_count": 1,
   "metadata": {},
   "outputs": [],
   "source": [
    "import PyPDF2"
   ]
  },
  {
   "cell_type": "code",
   "execution_count": 2,
   "metadata": {},
   "outputs": [],
   "source": [
    "def convert_pdf_to_text_py(path):\n",
    "    content = \"\"\n",
    "    with open(path, \"rb\") as f:\n",
    "        pdfDoc = PyPDF2.PdfFileReader(f,\"rb\")\n",
    "        for i in range(0,pdfDoc.getNumPages()):\n",
    "            content += pdfDoc.getPage(i).extractText() + \"\\n\"\n",
    "        return (content)"
   ]
  },
  {
   "cell_type": "code",
   "execution_count": 3,
   "metadata": {},
   "outputs": [],
   "source": [
    "text=convert_pdf_to_text_py(\"4200410050.PDF\")"
   ]
  },
  {
   "cell_type": "code",
   "execution_count": 4,
   "metadata": {},
   "outputs": [
    {
     "data": {
      "text/plain": [
       "'PA Insurance for E-Ticket Passengers of IRCTCCertificate of InsuranceMaster Policy No: 10031/48/20/000002Certificate No: 201911230158587Name and Address of the GroupOrganizer/Group Policy holderIndian Railway Catering and Tourism Corporation 12th floor,IRCTC Corporate Office Statesman House, Barakhamba Road,New Delhi, Pin Code 110001.Originating Station: YESVANTPUR JNDestination Station: HUBBALLI JN#Trip means the actual departure of train from the originating station to actual arrival of train at the destination station asmentioned in booked ticket through which insurance cover has been opted and premium paid, including process ofentrainingand process of detrainingthe train. For other T&C and Policy wording please visit our website www.shriramgi.comInsured DetailsPNR NO. 4200410050NameAgeGenderMobile No.Email IDMr. NITISH KUMAR29Male9921168907vedant.006@gmail.comSum Insured (IN INR) DeathPermanent totaldisabilityPermanent partialdisability uptoHospitalizationexpenses for InjuryuptoTransportation of  mortal remains1000000100000075000020000010000Please quote the PNR No. & Certificate Number in all your correspondence.Premium: We have received premium of INR 0.49 (Including GST) at the time of booking your ticket.IN WITNESS WHEREOF, this Policy of Insurance has been signed on  23/11/2019PAN Number: AAKCS2509K                        For Shriram General Insurance Company Limited.Duly Authorized SignatoryShriram General Insurance Co. Ltd.Nominee Details*Name of NomineeAgeRelationship with Insured* In case if nominee details have not been provided then claim will be payable to Legal heir.CIN No.  U66010RJ2006PLC029979IRDA Registration Number: 137SHRIRAM GENERAL INSURANCE COMPANY LIMITEDIN PARTNERSHIP WITH THESanlam GROUPRegd. & Corpt. Office: E-8, EPIP, RIICO INDUSTRIAL AREA, SITAPURAJAIPUR  (Rajasthan) - 302022Website: www.shriramgi.comE-mail: customer.feedback@shriramgi.inToll Free: 1800-100-3009, 1800-300-30000,  ISO/IEC 27001:2013 certifiedTrip# details :Departure date and time: 24/11/2019 05:00:00Arrival date and time: 24/11/2019 14:40:00GST No.: 08AAKCS2509K1Z3'"
      ]
     },
     "execution_count": 4,
     "metadata": {},
     "output_type": "execute_result"
    }
   ],
   "source": [
    "text=text.replace('\\n','') ## Removed Newline characters\n",
    "text"
   ]
  },
  {
   "cell_type": "markdown",
   "metadata": {},
   "source": [
    "## STEP 2 Extract Information from Text\n",
    "\n",
    "#### Extracting Information from Text using Regular Expressions"
   ]
  },
  {
   "cell_type": "code",
   "execution_count": 5,
   "metadata": {},
   "outputs": [],
   "source": [
    "import re ## Regular Expressions library used for python"
   ]
  },
  {
   "cell_type": "code",
   "execution_count": 6,
   "metadata": {},
   "outputs": [],
   "source": [
    "def get_info_from_text(text,regex):\n",
    "    \"\"\"\n",
    "    Extract the string that matches the regular expressions\n",
    "    param:\n",
    "        text - text string extracted from pdf file\n",
    "        regex - reguar expressions that is to be searched for\n",
    "    returns the searched string\n",
    "    \"\"\"\n",
    "    required_info=''\n",
    "    ResSearch = re.search(regex, text)\n",
    "    if ResSearch:\n",
    "        required_info = ResSearch.group(1)\n",
    "    return required_info"
   ]
  },
  {
   "cell_type": "markdown",
   "metadata": {},
   "source": [
    "#### Define the regex for each and every field from the text which needs to be extracted. For Testing the regular expression use https://pythex.org/. Copy and paste your texts in Your test string field\n",
    "#### You can read more about regular expressions at https://docs.python.org/3/howto/regex.html"
   ]
  },
  {
   "cell_type": "code",
   "execution_count": 7,
   "metadata": {},
   "outputs": [],
   "source": [
    "regex_Master_Policy_No = 'Master Policy No:\\s?([0-9/]{18})'\n",
    "regex_Certificate_No = 'Certificate No:\\s?(\\d{15})'\n",
    "regex_GST_No='GST No.:\\s?(\\d{2}[A-Z]{5}\\d{4}[A-Z]{1}[A-Z\\d]{1}[Z]{1}[A-Z\\d]{1})' ## https://stackoverflow.com/questions/44431819/regex-for-gst-identification-number-gstin"
   ]
  },
  {
   "cell_type": "code",
   "execution_count": 8,
   "metadata": {},
   "outputs": [],
   "source": [
    "Master_Policy_No = get_info_from_text(text,regex_Master_Policy_No)\n",
    "Certificate_No=get_info_from_text(text,regex_Certificate_No)\n",
    "GST_No= get_info_from_text(text,regex_GST_No)"
   ]
  },
  {
   "cell_type": "code",
   "execution_count": 9,
   "metadata": {},
   "outputs": [
    {
     "name": "stdout",
     "output_type": "stream",
     "text": [
      "Master Policy Number is 10031/48/20/000002\n",
      "Certificate Number is 201911230158587\n",
      "GST Number is 08AAKCS2509K1Z3\n"
     ]
    }
   ],
   "source": [
    "print ('Master Policy Number is ' + Master_Policy_No)\n",
    "print ('Certificate Number is ' + Certificate_No)\n",
    "print ('GST Number is ' + GST_No)"
   ]
  },
  {
   "cell_type": "markdown",
   "metadata": {},
   "source": [
    "# STEP 3 Reformat and Export\n",
    "\n",
    "####  Convert the data into a pandas dataframe"
   ]
  },
  {
   "cell_type": "code",
   "execution_count": 10,
   "metadata": {},
   "outputs": [],
   "source": [
    "import pandas as pd # Data manipulation library"
   ]
  },
  {
   "cell_type": "code",
   "execution_count": 11,
   "metadata": {},
   "outputs": [],
   "source": [
    "## Creating a dataframe\n",
    "df_details = pd.DataFrame(columns=['MasterPolicyNo','CertificateNo','GSTNO'])"
   ]
  },
  {
   "cell_type": "code",
   "execution_count": 12,
   "metadata": {},
   "outputs": [],
   "source": [
    "data=[Master_Policy_No,Certificate_No,GST_No]"
   ]
  },
  {
   "cell_type": "code",
   "execution_count": 13,
   "metadata": {},
   "outputs": [],
   "source": [
    "## Inserting the row\n",
    "df_details.loc[len(df_details.index)] = data"
   ]
  },
  {
   "cell_type": "code",
   "execution_count": 14,
   "metadata": {},
   "outputs": [
    {
     "data": {
      "text/html": [
       "<div>\n",
       "<style scoped>\n",
       "    .dataframe tbody tr th:only-of-type {\n",
       "        vertical-align: middle;\n",
       "    }\n",
       "\n",
       "    .dataframe tbody tr th {\n",
       "        vertical-align: top;\n",
       "    }\n",
       "\n",
       "    .dataframe thead th {\n",
       "        text-align: right;\n",
       "    }\n",
       "</style>\n",
       "<table border=\"1\" class=\"dataframe\">\n",
       "  <thead>\n",
       "    <tr style=\"text-align: right;\">\n",
       "      <th></th>\n",
       "      <th>MasterPolicyNo</th>\n",
       "      <th>CertificateNo</th>\n",
       "      <th>GSTNO</th>\n",
       "    </tr>\n",
       "  </thead>\n",
       "  <tbody>\n",
       "    <tr>\n",
       "      <th>0</th>\n",
       "      <td>10031/48/20/000002</td>\n",
       "      <td>201911230158587</td>\n",
       "      <td>08AAKCS2509K1Z3</td>\n",
       "    </tr>\n",
       "  </tbody>\n",
       "</table>\n",
       "</div>"
      ],
      "text/plain": [
       "       MasterPolicyNo    CertificateNo            GSTNO\n",
       "0  10031/48/20/000002  201911230158587  08AAKCS2509K1Z3"
      ]
     },
     "execution_count": 14,
     "metadata": {},
     "output_type": "execute_result"
    }
   ],
   "source": [
    "df_details"
   ]
  },
  {
   "cell_type": "code",
   "execution_count": 15,
   "metadata": {},
   "outputs": [],
   "source": [
    "##export\n",
    "df_details.to_csv(\"policydetails.csv\",index=False)"
   ]
  },
  {
   "cell_type": "code",
   "execution_count": null,
   "metadata": {},
   "outputs": [],
   "source": []
  }
 ],
 "metadata": {
  "kernelspec": {
   "display_name": "Python 3",
   "language": "python",
   "name": "python3"
  },
  "language_info": {
   "codemirror_mode": {
    "name": "ipython",
    "version": 3
   },
   "file_extension": ".py",
   "mimetype": "text/x-python",
   "name": "python",
   "nbconvert_exporter": "python",
   "pygments_lexer": "ipython3",
   "version": "3.7.3"
  }
 },
 "nbformat": 4,
 "nbformat_minor": 2
}
