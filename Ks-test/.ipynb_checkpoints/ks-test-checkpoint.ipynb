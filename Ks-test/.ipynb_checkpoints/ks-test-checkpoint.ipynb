{
 "cells": [
  {
   "cell_type": "code",
   "execution_count": 1,
   "metadata": {},
   "outputs": [],
   "source": [
    "from scipy.stats import kstest \n",
    "import random "
   ]
  },
  {
   "cell_type": "markdown",
   "metadata": {},
   "source": [
    "Generate 20 random numbers between 0 and 1"
   ]
  },
  {
   "cell_type": "code",
   "execution_count": 2,
   "metadata": {},
   "outputs": [
    {
     "name": "stdout",
     "output_type": "stream",
     "text": [
      "[0.13777250620799053, 0.8782970108521699, 0.10753539791259148, 0.46697400166886793, 0.11251062722227356, 0.003764566504681932, 0.007202620619755629, 0.1765015318905495, 0.6602335179575388, 0.14854879085061035, 0.9214851045367393, 0.1583082359386102, 0.08708591072516347, 0.975723044565644, 0.5557924768585031, 0.6042289471827273, 0.3964524429169539, 0.34718774771705097, 0.7816138198984418, 0.3327130443763534]\n"
     ]
    }
   ],
   "source": [
    "sample_dist = []\n",
    "for i in range(0,20):\n",
    "    n = random.random()\n",
    "    sample_dist.append(n)\n",
    "print(sample_dist)\n"
   ]
  },
  {
   "cell_type": "markdown",
   "metadata": {},
   "source": [
    "Check if these random numbers are from the normal distribution or not"
   ]
  },
  {
   "cell_type": "code",
   "execution_count": 3,
   "metadata": {},
   "outputs": [
    {
     "name": "stdout",
     "output_type": "stream",
     "text": [
      "KstestResult(statistic=0.5015018411987607, pvalue=3.5352062958276426e-05)\n"
     ]
    }
   ],
   "source": [
    "x = kstest(sample_dist, \"norm\") \n",
    "print(x) "
   ]
  },
  {
   "cell_type": "markdown",
   "metadata": {},
   "source": [
    "Here p value is lesser than 0.05, hence we will reject the null hypothesis that randomlist is from normal distribution. randomlist does not come from the normal distribution"
   ]
  },
  {
   "cell_type": "code",
   "execution_count": null,
   "metadata": {},
   "outputs": [],
   "source": []
  }
 ],
 "metadata": {
  "kernelspec": {
   "display_name": "Python 3",
   "language": "python",
   "name": "python3"
  },
  "language_info": {
   "codemirror_mode": {
    "name": "ipython",
    "version": 3
   },
   "file_extension": ".py",
   "mimetype": "text/x-python",
   "name": "python",
   "nbconvert_exporter": "python",
   "pygments_lexer": "ipython3",
   "version": "3.7.3"
  }
 },
 "nbformat": 4,
 "nbformat_minor": 2
}
