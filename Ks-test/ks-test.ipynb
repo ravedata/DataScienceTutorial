{
 "cells": [
  {
   "cell_type": "code",
   "execution_count": 57,
   "metadata": {},
   "outputs": [],
   "source": [
    "from scipy.stats import kstest \n",
    "from scipy.stats import ks_2samp\n",
    "from scipy.stats import norm\n",
    "import random \n",
    "import numpy as np\n",
    "np.random.seed(12345678)"
   ]
  },
  {
   "cell_type": "markdown",
   "metadata": {},
   "source": [
    "Generate 20 random numbers between 0 and 1"
   ]
  },
  {
   "cell_type": "code",
   "execution_count": 58,
   "metadata": {},
   "outputs": [
    {
     "name": "stdout",
     "output_type": "stream",
     "text": [
      "[0.9375636644812018, 0.22634911723607853, 0.9042032696881435, 0.4138045512992332, 0.04806137135986288, 0.9928031034139542, 0.9061967395421585, 0.5081086106016877, 0.05797005309757208, 0.36477697702762946, 0.1589376119243192, 0.44561485980333604, 0.2579251277785176, 0.28217021434906764, 0.7096155468766749, 0.3785061259217338, 0.8155722693524371, 0.05057806372587925, 0.5189077241038037, 0.030140483838774323]\n"
     ]
    }
   ],
   "source": [
    "sample_dist = []\n",
    "for i in range(0,20):\n",
    "    n = random.random()\n",
    "    sample_dist.append(n)\n",
    "print(sample_dist)\n"
   ]
  },
  {
   "cell_type": "markdown",
   "metadata": {},
   "source": [
    "Check if these random numbers are from the normal distribution or not"
   ]
  },
  {
   "cell_type": "code",
   "execution_count": 59,
   "metadata": {},
   "outputs": [
    {
     "name": "stdout",
     "output_type": "stream",
     "text": [
      "KstestResult(statistic=0.5120224930243301, pvalue=2.1643970553158e-05)\n"
     ]
    }
   ],
   "source": [
    "x = kstest(sample_dist, \"norm\") \n",
    "print(x) "
   ]
  },
  {
   "cell_type": "markdown",
   "metadata": {},
   "source": [
    "Here p value is lesser than 0.05, hence we will reject the null hypothesis that randomlist is from normal distribution. randomlist does not come from the normal distribution"
   ]
  },
  {
   "cell_type": "code",
   "execution_count": null,
   "metadata": {},
   "outputs": [],
   "source": []
  },
  {
   "cell_type": "code",
   "execution_count": 60,
   "metadata": {},
   "outputs": [],
   "source": [
    "sample1=norm.rvs(size=100, loc=0., scale=1)"
   ]
  },
  {
   "cell_type": "code",
   "execution_count": 61,
   "metadata": {},
   "outputs": [],
   "source": [
    "sample2=norm.rvs(size=200, loc=0., scale=1.5)"
   ]
  },
  {
   "cell_type": "code",
   "execution_count": 62,
   "metadata": {},
   "outputs": [
    {
     "data": {
      "text/plain": [
       "Ks_2sampResult(statistic=0.195, pvalue=0.011852786676851301)"
      ]
     },
     "execution_count": 62,
     "metadata": {},
     "output_type": "execute_result"
    }
   ],
   "source": [
    "ks_2samp(sample1,sample2)"
   ]
  },
  {
   "cell_type": "markdown",
   "metadata": {},
   "source": [
    "as pvalue <0.05, hence we reject the null hypothesis. both samples are significantly different."
   ]
  }
 ],
 "metadata": {
  "kernelspec": {
   "display_name": "Python 3",
   "language": "python",
   "name": "python3"
  },
  "language_info": {
   "codemirror_mode": {
    "name": "ipython",
    "version": 3
   },
   "file_extension": ".py",
   "mimetype": "text/x-python",
   "name": "python",
   "nbconvert_exporter": "python",
   "pygments_lexer": "ipython3",
   "version": "3.7.3"
  }
 },
 "nbformat": 4,
 "nbformat_minor": 2
}
