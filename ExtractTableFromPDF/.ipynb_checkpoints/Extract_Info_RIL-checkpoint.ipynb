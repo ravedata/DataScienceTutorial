{
 "cells": [
  {
   "cell_type": "markdown",
   "metadata": {},
   "source": [
    "# CASE STUDY - Extract Tabular Data From PDF files"
   ]
  },
  {
   "cell_type": "markdown",
   "metadata": {},
   "source": [
    "An Investment analytics firm “RAVE Analytics” analyses quarterly results of various companies and advises their clients based on its analysis. Mohan works as a Data Analyst for RAVE Analytics, and his work is to get the quarterly results for various companies from their respective websites/ and store it in a given format in a database for future use. He starts with the quarterly results of “Reliance India Limited.” The quarterly results of RIL are on their website but in pdf format. He needs the final data in the following format.\n",
    "\n",
    "|CName |CCode|Year |Quarter |Revenue |EBITDA |NetProfit |EPS|\n",
    "|---- |:----|:--- |:------ |:------ |:----- |:-------- |:-----|\n",
    "\n",
    "\n",
    "How will Mohan proceed? \n"
   ]
  },
  {
   "cell_type": "markdown",
   "metadata": {},
   "source": [
    "Mohan decided to break this problem into the following three steps.\n",
    "1. Getting the input pdf files.\n",
    "2. Processing the input files\n",
    "3. Saving the outupt files\n",
    "\n",
    "He created the following folders to keep the different files which are self explanatory.\n",
    "\n",
    "1. input_pdf_RIL\n",
    "2. processed_pdf_RIL\n",
    "3. error_pdf_RIL\n",
    "4. output_csv_RIL\n",
    "\n",
    "He proceeded with importing libraries in python as below."
   ]
  },
  {
   "cell_type": "code",
   "execution_count": 177,
   "metadata": {},
   "outputs": [],
   "source": [
    "## Import libraries\n",
    "import os\n",
    "import pandas as pd\n",
    "import PyPDF2\n",
    "import re\n",
    "import camelot as cm\n",
    "from datetime import datetime"
   ]
  },
  {
   "cell_type": "code",
   "execution_count": 178,
   "metadata": {},
   "outputs": [],
   "source": [
    "## Setting various folder paths\n",
    "\n",
    "INPUTFODLER=r'D:\\Projects_Data\\Github\\DataScienceTutorial\\ExtractTableFromPDF\\input_pdf_RIL'\n",
    "OUTPUTFOLDER=r'D:\\Projects_Data\\Github\\DataScienceTutorial\\ExtractTableFromPDF\\output_csv_RIL'\n",
    "ERRORFOLDER=r'D:\\Projects_Data\\Github\\DataScienceTutorial\\ExtractTableFromPDF\\error_pdf_RIL'\n",
    "PROCESSEDFOLDER=r'D:\\Projects_Data\\Github\\DataScienceTutorial\\ExtractTableFromPDF\\processed_pdf_RIL'"
   ]
  },
  {
   "cell_type": "markdown",
   "metadata": {},
   "source": [
    "## Logic of processing input pdf files\n",
    "\n",
    "Mohan got the quartely results file from RIL website and put it in the input folder.\n",
    "\n",
    "After brainstorming the problem, he broke down the problem into three steps for each pdf file which is shown in the following diagram. "
   ]
  },
  {
   "cell_type": "code",
   "execution_count": 189,
   "metadata": {},
   "outputs": [],
   "source": [
    "## Read the path of all pdf files into a list\n",
    "def get_all_pdf_files(folderpath=\"\"):\n",
    "    input_file_list=[]\n",
    "    for file in os.listdir(folderpath):\n",
    "        if file.lower().endswith(\".pdf\"):\n",
    "            file_name= os.path.join(folderpath, file)\n",
    "            input_file_list.append(file_name)\n",
    "    return input_file_list"
   ]
  },
  {
   "cell_type": "code",
   "execution_count": 190,
   "metadata": {},
   "outputs": [],
   "source": [
    "def find_page_number_quartely_result(filepath):\n",
    "    \"\"\"\n",
    "     returns pagenumber of the pdf file which containes  consolidated financial performance\n",
    "    param:\n",
    "        filepath - path of the pdf file\n",
    "        \n",
    "    returns pagenumber\n",
    "    \n",
    "    \"\"\"\n",
    "    pagenumber= -1\n",
    "    matchstring=\"CONSOLIDATED FINANCIAL PERFORMANCE\"\n",
    "    with open(filepath, \"rb\") as f:\n",
    "        pdfDoc = PyPDF2.PdfFileReader(f,\"rb\")\n",
    "        for i in range(0,pdfDoc.getNumPages()):\n",
    "            content=\"\"\n",
    "            content = pdfDoc.getPage(i).extractText()\n",
    "            #print(content)\n",
    "            content=content.replace(\"\\n\",\"\")\n",
    "            ResSearch = re.search(matchstring, content)\n",
    "            if ResSearch is not None:\n",
    "                pagenumber=i+1\n",
    "                break\n",
    "    return pagenumber"
   ]
  },
  {
   "cell_type": "code",
   "execution_count": 191,
   "metadata": {},
   "outputs": [],
   "source": [
    "def extract_quarterly_result_table_pdf(page_number,filepath):\n",
    "    \"\"\"\n",
    "    extract raw consolidated financial performance table from the input pdf file\n",
    "    \n",
    "    param:\n",
    "        page_number - page number where consolidated financial performance table appears\n",
    "        filepath - path of the pdf file\n",
    "        \n",
    "    returns df\n",
    "    \n",
    "    \"\"\"\n",
    "    df=pd.DataFrame()\n",
    "    ### camelot library is used\n",
    "    var= cm.read_pdf(filepath,pages=str(page_number),copy_text=[\"v\"])\n",
    "    if(len(var)==1):\n",
    "        df=var[0].df\n",
    "    return df"
   ]
  },
  {
   "cell_type": "code",
   "execution_count": 193,
   "metadata": {},
   "outputs": [],
   "source": [
    "def transform_data(inputdf):\n",
    "    \"\"\"\n",
    "    This function takes the cleaned dataframe extracted from pdf and returns a dictionary with desired data\n",
    "    \n",
    "    param:\n",
    "        inputdf - dataframe\n",
    "        \n",
    "        \n",
    "    returns outputdict\n",
    "    \n",
    "    \"\"\"\n",
    "    cname= \"Reliance Industries Limited\"\n",
    "    ccode=\"RIL\"\n",
    "    x=inputdf.columns[0].split(\"_\")[1]\n",
    "    fiscal_year= '20'+ re.sub(r'[FY ]','',x)\n",
    "    quarter=inputdf.columns[0].split(\"_\")[0]\n",
    "    quarter_no= re.sub(r'[ Q]','',quarter)\n",
    "    revenue=inputdf.loc['Revenue'].values[0]\n",
    "    ebitda= inputdf.loc['EBITDA'].values[0]\n",
    "    net_profit= inputdf.loc['Net_Profit'].values[0]\n",
    "    eps= inputdf.loc['EPS'].values[0].replace('#','')\n",
    "    outputdict= {'CName':cname,\n",
    "                 'CCode':ccode,\n",
    "                 'Fiscal_Year':fiscal_year,\n",
    "                 'Quarter_No':quarter_no,\n",
    "                 'Revenue':revenue,\n",
    "                 'EBITDA':ebitda,\n",
    "                 'Net_Profit':ebitda,\n",
    "                 'EPS':eps\n",
    "                }\n",
    "    return outputdict"
   ]
  },
  {
   "cell_type": "code",
   "execution_count": 194,
   "metadata": {},
   "outputs": [],
   "source": [
    "def clean_dataframe(inputdf):\n",
    "    \"\"\"\n",
    "    clean the complete tabular data taken out from pdf and returns dataframe with only desired data\n",
    "    \n",
    "    \n",
    "    returns outputdf\n",
    "    \"\"\"\n",
    "    outputdf= pd.DataFrame()\n",
    "    col_list=inputdf.loc[0].tolist()\n",
    "    col_list= [item.replace('\\n','_').replace(' ','') for item in col_list]\n",
    "    inputdf.columns=col_list\n",
    "    inputdf.drop([0],inplace=True)\n",
    "    inputdf['KPI']= ['Revenue','EBITDA','Net_Profit','EPS']\n",
    "    inputdf.set_index('KPI',inplace=True)\n",
    "    inputdf.drop(df.columns[0],axis=1,inplace=True)\n",
    "    outputdf = pd.DataFrame(index=inputdf.index,columns=[inputdf.columns[0]],data=df[inputdf.columns[0]])\n",
    "    return outputdf"
   ]
  },
  {
   "cell_type": "code",
   "execution_count": 187,
   "metadata": {},
   "outputs": [],
   "source": [
    "ril_dict_list=[]\n",
    "pdf_file_path_list=get_all_pdf_files(INPUTFODLER)\n",
    "for filepath in pdf_file_path_list:\n",
    "    try:\n",
    "        page_number= find_page_number_quartely_result(filepath)\n",
    "        df= extract_quarterly_result_table_pdf(page_number,filepath)\n",
    "        newdf= clean_dataframe(df)\n",
    "        ril_dict= transform_data(newdf)\n",
    "        ril_dict_list.append(ril_dict)\n",
    "        ## move TO PROCESSED FOLDER\n",
    "        filename= os.path.basename(filepath)\n",
    "        os.rename(filepath, os.path.join(PROCESSEDFOLDER,filename))\n",
    "    except:\n",
    "        ### MOVE TO ERROR FOLDER\n",
    "        filename= os.path.basename(filepath)\n",
    "        os.rename(filepath, os.path.join(ERRORFOLDER,filename))\n",
    "\n",
    "if ril_dict_list:\n",
    "    today = datetime.now()\n",
    "    datestr=today.strftime(\"%b%d%Y%H%M%S\")\n",
    "    csv_name= \"RIL\" +\"_\" +datestr +\".csv\"\n",
    "    csv_file_name= os.path.join(OUTPUTFOLDER, csv_name)\n",
    "    ril_df= pd.DataFrame(ril_dict_list)\n",
    "    ril_df.to_csv(csv_file_name,index=True)"
   ]
  },
  {
   "cell_type": "code",
   "execution_count": null,
   "metadata": {},
   "outputs": [],
   "source": []
  }
 ],
 "metadata": {
  "kernelspec": {
   "display_name": "Python 3",
   "language": "python",
   "name": "python3"
  },
  "language_info": {
   "codemirror_mode": {
    "name": "ipython",
    "version": 3
   },
   "file_extension": ".py",
   "mimetype": "text/x-python",
   "name": "python",
   "nbconvert_exporter": "python",
   "pygments_lexer": "ipython3",
   "version": "3.7.3"
  }
 },
 "nbformat": 4,
 "nbformat_minor": 2
}
